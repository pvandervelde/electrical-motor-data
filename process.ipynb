{
 "cells": [
  {
   "cell_type": "markdown",
   "source": [
    "# Motor curve generator"
   ],
   "metadata": {}
  },
  {
   "cell_type": "code",
   "execution_count": 10,
   "source": [
    "from pathlib import Path\r\n",
    "\r\n",
    "import pandas as pd\r\n",
    "\r\n",
    "from motor_parser import *\r\n",
    "\r\n",
    "gear_info = []\r\n",
    "\r\n",
    "working_dir = Path()\r\n",
    "motors_dir = working_dir.joinpath('motors')\r\n",
    "for path in motors_dir.glob(\"**/*.yaml\"):\r\n",
    "    motor = parse_config(path)\r\n",
    "\r\n",
    "    gear_min_for_high_speed, gear_max_for_high_speed = gearing_for_motor(motor, 212, 6.5, 302.1)\r\n",
    "    gear_min_for_low_speed, gear_max_for_low_speed = gearing_for_motor(motor, 212, 13.20, 152.79)\r\n",
    "\r\n",
    "    if (gear_min_for_high_speed.gear.ratio < gear_min_for_low_speed.gear.ratio):\r\n",
    "        gear_min = gear_min_for_low_speed\r\n",
    "    else:\r\n",
    "        gear_min = gear_min_for_high_speed\r\n",
    "\r\n",
    "    if (gear_max_for_high_speed.gear.ratio < gear_max_for_low_speed.gear.ratio):\r\n",
    "        gear_max = gear_max_for_high_speed\r\n",
    "    else:\r\n",
    "        gear_max = gear_max_for_low_speed\r\n",
    "\r\n",
    "    motor_gear_specifics = [ motor.name, motor.manufacturer.name, gear_min.gear.ratio, gear_max.gear.ratio]\r\n",
    "\r\n",
    "    gear_info.append(motor_gear_specifics)\r\n",
    "\r\n",
    "pd.DataFrame(gear_info, columns=['motor', 'manufacturer', 'minimum gear ratio', 'maximum gear ratio'])\r\n",
    "\r\n"
   ],
   "outputs": [
    {
     "output_type": "execute_result",
     "data": {
      "text/html": [
       "<div>\n",
       "<style scoped>\n",
       "    .dataframe tbody tr th:only-of-type {\n",
       "        vertical-align: middle;\n",
       "    }\n",
       "\n",
       "    .dataframe tbody tr th {\n",
       "        vertical-align: top;\n",
       "    }\n",
       "\n",
       "    .dataframe thead th {\n",
       "        text-align: right;\n",
       "    }\n",
       "</style>\n",
       "<table border=\"1\" class=\"dataframe\">\n",
       "  <thead>\n",
       "    <tr style=\"text-align: right;\">\n",
       "      <th></th>\n",
       "      <th>motor</th>\n",
       "      <th>manufacturer</th>\n",
       "      <th>minimum gear ratio</th>\n",
       "      <th>maximum gear ratio</th>\n",
       "    </tr>\n",
       "  </thead>\n",
       "  <tbody>\n",
       "    <tr>\n",
       "      <th>0</th>\n",
       "      <td>NEO brushless motor</td>\n",
       "      <td>REV</td>\n",
       "      <td>3.937301</td>\n",
       "      <td>16.856482</td>\n",
       "    </tr>\n",
       "    <tr>\n",
       "      <th>1</th>\n",
       "      <td>NEO 550 brushless motor</td>\n",
       "      <td>REV</td>\n",
       "      <td>18.218559</td>\n",
       "      <td>27.557791</td>\n",
       "    </tr>\n",
       "    <tr>\n",
       "      <th>2</th>\n",
       "      <td>Falcon 500</td>\n",
       "      <td>VEX</td>\n",
       "      <td>3.035108</td>\n",
       "      <td>19.627610</td>\n",
       "    </tr>\n",
       "  </tbody>\n",
       "</table>\n",
       "</div>"
      ],
      "text/plain": [
       "                     motor manufacturer  minimum gear ratio  \\\n",
       "0      NEO brushless motor          REV            3.937301   \n",
       "1  NEO 550 brushless motor          REV           18.218559   \n",
       "2               Falcon 500          VEX            3.035108   \n",
       "\n",
       "   maximum gear ratio  \n",
       "0           16.856482  \n",
       "1           27.557791  \n",
       "2           19.627610  "
      ]
     },
     "metadata": {},
     "execution_count": 10
    }
   ],
   "metadata": {}
  },
  {
   "cell_type": "code",
   "execution_count": null,
   "source": [],
   "outputs": [],
   "metadata": {}
  }
 ],
 "metadata": {
  "orig_nbformat": 4,
  "language_info": {
   "name": "python",
   "version": "3.8.12",
   "mimetype": "text/x-python",
   "codemirror_mode": {
    "name": "ipython",
    "version": 3
   },
   "pygments_lexer": "ipython3",
   "nbconvert_exporter": "python",
   "file_extension": ".py"
  },
  "kernelspec": {
   "name": "python3",
   "display_name": "Python 3.8.12 64-bit ('motordata': conda)"
  },
  "interpreter": {
   "hash": "5ff78b089a4776c3e1c3932f0b486a59e13e77649bb1211af6f40e30e0c3842c"
  }
 },
 "nbformat": 4,
 "nbformat_minor": 2
}